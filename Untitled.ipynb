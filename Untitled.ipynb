{
 "cells": [
  {
   "cell_type": "code",
   "execution_count": 1,
   "id": "fd276eee-8938-4038-aa07-3f1abf1afc1d",
   "metadata": {
    "scrolled": true
   },
   "outputs": [],
   "source": [
    "import pandas as pd\n",
    "import numpy as np\n",
    "import seaborn as sns\n",
    "from sklearn.model_selection import train_test_split\n",
    "from sklearn.metrics import accuracy_score,classification_report,confusion_matrix,mean_squared_error,r2_score\n",
    "from sklearn.feature_extraction.text import TfidfVectorizer\n",
    "import re\n",
    "import ssl\n",
    "import socket\n",
    "import string\n",
    "from urllib.parse import urlparse\n",
    "from tld import get_tld \n",
    "import matplotlib.pyplot as plt\n",
    "from lightgbm import LGBMClassifier\n",
    "import xgboost as xgb\n",
    "from urllib.request import Request,urlopen\n",
    "from urllib.error import URLError\n",
    "import idna\n",
    "from sklearn.linear_model import LogisticRegression"
   ]
  },
  {
   "cell_type": "code",
   "execution_count": 2,
   "id": "44459f5c-f870-4bd3-8672-eb1ed44403d8",
   "metadata": {},
   "outputs": [
    {
     "name": "stderr",
     "output_type": "stream",
     "text": [
      "C:\\Users\\DELL\\AppData\\Local\\Temp\\ipykernel_6800\\4238714971.py:1: DtypeWarning: Columns (16) have mixed types. Specify dtype option on import or set low_memory=False.\n",
      "  df = pd.read_csv('C:/Users/DELL/Desktop/coding/project/Project.csv')\n"
     ]
    }
   ],
   "source": [
    "df = pd.read_csv('C:/Users/DELL/Desktop/coding/project/Project.csv')"
   ]
  },
  {
   "cell_type": "code",
   "execution_count": 3,
   "id": "4bca2517-1e7b-4f2f-9260-9b0d334d4e20",
   "metadata": {},
   "outputs": [],
   "source": [
    "def get_hostname(url):\n",
    "    parsed_url = urlparse(url)\n",
    "    return parsed_url.hostname"
   ]
  },
  {
   "cell_type": "code",
   "execution_count": 4,
   "id": "e1bd268c-d55b-48c2-b738-b13a6170e399",
   "metadata": {},
   "outputs": [],
   "source": [
    "#hostname = get_hostname(url)"
   ]
  },
  {
   "cell_type": "code",
   "execution_count": 5,
   "id": "d4d2560d-c163-4d88-adf0-47893d33859f",
   "metadata": {},
   "outputs": [],
   "source": [
    "def getDomain(url):\n",
    "\tif re.search('www', url):\n",
    "\t\tstart = url.find('www') + 3\n",
    "\t\tstop = url[start:].find('/') + start\n",
    "\t\treturn url[start:stop]\n",
    "\telif re.search('http://', url):\n",
    "\t\tstart = url.find('http://') + 7\n",
    "\t\tstop = url[start:].find('/') + start\n",
    "\t\treturn url[start:stop]\n",
    "\telif re.search('https://', url):\n",
    "\t\tstart = url.find('https://') + 8\n",
    "\t\tstop = url[start:].find('/') + start\n",
    "\t\treturn url[start:stop]\n",
    "\telse:\n",
    "\t\treturn 'no'"
   ]
  },
  {
   "cell_type": "code",
   "execution_count": 6,
   "id": "8b71ea00-1fe5-4632-8290-923771e8bb77",
   "metadata": {},
   "outputs": [],
   "source": [
    "#domain = getDomain(url)"
   ]
  },
  {
   "cell_type": "code",
   "execution_count": 7,
   "id": "43dd3e7d-2ff3-4166-af3d-8139f347d2d3",
   "metadata": {},
   "outputs": [],
   "source": [
    "def getSoup(url):\n",
    "    try:\n",
    "        headers = {'User-Agent': 'Mozilla/5.0 (Windows NT 6.1) AppleWebKit/537.36 (KHTML, like Gecko) Chrome/41.0.2228.0'}\n",
    "        req = Request(url, headers=headers)\n",
    "        req = urlopen(req)\n",
    "        soup = BeautifulSoup(req, 'html.parser')\n",
    "        return soup\n",
    "    except URLError as e:\n",
    "        print(\"Error opening URL:\", e)\n",
    "        return 0"
   ]
  },
  {
   "cell_type": "code",
   "execution_count": 8,
   "id": "a335023c-b7ed-469d-9093-215c58b96b89",
   "metadata": {},
   "outputs": [],
   "source": [
    "def no_of_dir(url):\n",
    "    urldir = urlparse(url).path\n",
    "    return urldir.count('/')"
   ]
  },
  {
   "cell_type": "code",
   "execution_count": 9,
   "id": "4badfcd5-a522-4dbc-9260-d79a5991f9a5",
   "metadata": {},
   "outputs": [],
   "source": [
    "#soup = getSoup(url)"
   ]
  },
  {
   "cell_type": "code",
   "execution_count": 10,
   "id": "b9976bff-1c0e-4ab7-9275-62d37caa397f",
   "metadata": {},
   "outputs": [],
   "source": [
    "def having_ip_address(url):\n",
    "    match = re.search(\n",
    "'(([01]?\\\\d\\\\d?|2[0-4]\\\\d|25[0-5])\\\\.([01]?\\\\d\\\\d?|2[0-4]\\\\d|25[0-5])\\\\.([01]?\\\\d\\\\d?|2[0-4]\\\\d|25[0-5])\\\\.'\n",
    "'([01]?\\\\d\\\\d?|2[0-4]\\\\d|25[0-5])\\\\/)|' # IPv4\n",
    "'((0x[0-9a-fA-F]{1,2})\\\\.(0x[0-9a-fA-F]{1,2})\\\\.(0x[0-9a-fA-F]{1,2})\\\\.(0x[0-9a-fA-F]{1,2})\\\\/)' # IPv4 in hexadecimal\n",
    "'(?:[a-fA-F0-9]{1,4}:){7}[a-fA-F0-9]{1,4}', url) # Ipv6\n",
    "    if match:\n",
    "        return 1\n",
    "    else:\n",
    "        return 0\n",
    "df['use_of_ip'] = df['url'].apply(lambda i: having_ip_address(i))"
   ]
  },
  {
   "cell_type": "code",
   "execution_count": 11,
   "id": "23404059-4865-499b-86e5-9a2890e9cb31",
   "metadata": {},
   "outputs": [],
   "source": [
    "from urllib.parse import urlparse\n",
    "def abnormal_url(url):\n",
    "    hostname = urlparse(url).hostname\n",
    "    hostname = str(hostname)\n",
    "    match = re.search(hostname, url)\n",
    "    if match:\n",
    "        return 1\n",
    "    else:  \n",
    "        return 0"
   ]
  },
  {
   "cell_type": "code",
   "execution_count": 12,
   "id": "7fb23fad-2ad5-44da-9bea-a621a08a6d1b",
   "metadata": {},
   "outputs": [],
   "source": [
    "def count_dot(url):\n",
    "    count_dot = url.count('.')\n",
    "    return count_dot"
   ]
  },
  {
   "cell_type": "code",
   "execution_count": 13,
   "id": "9d611b97-c522-4f70-b747-44529a727b2e",
   "metadata": {},
   "outputs": [],
   "source": [
    "def count_www(url):\n",
    "    url.count('www')\n",
    "    return url.count('www')\n"
   ]
  },
  {
   "cell_type": "code",
   "execution_count": 14,
   "id": "0d39383c-7614-479a-aece-d7f975df5416",
   "metadata": {},
   "outputs": [],
   "source": [
    "def count_atrate(url):\n",
    "    return url.count('@')"
   ]
  },
  {
   "cell_type": "code",
   "execution_count": 15,
   "id": "354077cf-6ace-4074-912c-b8c377b63adf",
   "metadata": {},
   "outputs": [],
   "source": [
    "def no_of_embed(url):\n",
    "    urldir = urlparse(url).path\n",
    "    return urldir.count('//')"
   ]
  },
  {
   "cell_type": "code",
   "execution_count": 16,
   "id": "53c21420-a511-4e48-ba06-079a5a358ff1",
   "metadata": {
    "scrolled": true
   },
   "outputs": [],
   "source": [
    "def shortening_service(url):\n",
    "    match = re.search(r'bit\\.ly|goo\\.gl|shorte\\.st|go2l\\.ink|x\\.co|ow\\.ly|t\\.co|tinyurl|tr\\.im|is\\.gd|cli\\.gs|'\n",
    "                  r'yfrog\\.com|migre\\.me|ff\\.im|tiny\\.cc|url4\\.eu|twit\\.ac|su\\.pr|twurl\\.nl|snipurl\\.com|'\n",
    "                  r'short\\.to|BudURL\\.com|ping\\.fm|post\\.ly|Just\\.as|bkite\\.com|snipr\\.com|fic\\.kr|loopt\\.us|'\n",
    "                  r'doiop\\.com|short\\.ie|kl\\.am|wp\\.me|rubyurl\\.com|om\\.ly|to\\.ly|bit\\.do|lnkd\\.in|'\n",
    "                  r'db\\.tt|qr\\.ae|adf\\.ly|goo\\.gl|bitly\\.com|cur\\.lv|tinyurl\\.com|ow\\.ly|bit\\.ly|ity\\.im|'\n",
    "                  r'q\\.gs|is\\.gd|po\\.st|bc\\.vc|twitthis\\.com|u\\.to|j\\.mp|buzurl\\.com|cutt\\.us|u\\.bb|yourls\\.org|'\n",
    "                  r'x\\.co|prettylinkpro\\.com|scrnch\\.me|filoops\\.info|vzturl\\.com|qr\\.net|1url\\.com|tweez\\.me|v\\.gd|'\n",
    "                  r'tr\\.im|link\\.zip\\.net',url)\n",
    "    if match:\n",
    "        return 1\n",
    "    else:\n",
    "        return 0"
   ]
  },
  {
   "cell_type": "code",
   "execution_count": 17,
   "id": "940b4e1e-e268-44b2-b4be-9f582d22ee6e",
   "metadata": {},
   "outputs": [],
   "source": [
    "def count_https(url):\n",
    "    return url.count('https')"
   ]
  },
  {
   "cell_type": "code",
   "execution_count": 18,
   "id": "54660e6d-00a1-4a8f-87f6-dd9152919f3a",
   "metadata": {},
   "outputs": [],
   "source": [
    "def count_http(url):\n",
    "    return url.count('http')"
   ]
  },
  {
   "cell_type": "code",
   "execution_count": 19,
   "id": "be936aac-206e-407b-bdd9-5eb56f5dce42",
   "metadata": {},
   "outputs": [],
   "source": [
    "def count_per(url):\n",
    "    return url.count('%')"
   ]
  },
  {
   "cell_type": "code",
   "execution_count": 20,
   "id": "4b5be68b-fa18-4bde-a68b-5a07991fa2f3",
   "metadata": {},
   "outputs": [],
   "source": [
    "def count_ques(url):\n",
    "    return url.count('?')"
   ]
  },
  {
   "cell_type": "code",
   "execution_count": 21,
   "id": "4dfa2d29-4590-4ccd-9f13-43d5f417ab6a",
   "metadata": {},
   "outputs": [],
   "source": [
    "def count_hyphen(url):\n",
    "    return url.count('-')"
   ]
  },
  {
   "cell_type": "code",
   "execution_count": 22,
   "id": "89e32368-37cb-4721-ad3d-f477c1490bae",
   "metadata": {},
   "outputs": [],
   "source": [
    "def count_equal(url):\n",
    "    return url.count('=')"
   ]
  },
  {
   "cell_type": "code",
   "execution_count": 23,
   "id": "eaf77a57-bdcf-42e8-b773-c245ebaeb329",
   "metadata": {},
   "outputs": [],
   "source": [
    "def url_length(url):\n",
    "    return len(str(url))"
   ]
  },
  {
   "cell_type": "code",
   "execution_count": 24,
   "id": "991a3acc-d080-4dc2-b747-91508cb4833e",
   "metadata": {},
   "outputs": [],
   "source": [
    "def hostname_length(url):\n",
    "    return len(urlparse(url).netloc)"
   ]
  },
  {
   "cell_type": "code",
   "execution_count": 25,
   "id": "62daad85-1163-4442-b1e0-5922dbef5420",
   "metadata": {},
   "outputs": [],
   "source": [
    "def suspicious_words(url):\n",
    "    match = re.search('PayPal|login|signin|bank|account|update|free|lucky|service|bonus|ebayisapi|webscr',\n",
    "url)\n",
    "    if match:\n",
    "        return 1\n",
    "    else:\n",
    "        return 0"
   ]
  },
  {
   "cell_type": "code",
   "execution_count": 26,
   "id": "fe167435-ddaf-4de8-b3be-9ca42c4f2d08",
   "metadata": {},
   "outputs": [],
   "source": [
    "def digit_count(url):\n",
    "    digits = 0\n",
    "    for i in url:\n",
    "        if i.isnumeric():\n",
    "            digits = digits + 1\n",
    "        return digits"
   ]
  },
  {
   "cell_type": "code",
   "execution_count": 27,
   "id": "817f2b73-2f3c-485c-a156-c91fc420d103",
   "metadata": {},
   "outputs": [],
   "source": [
    "def letter_count(url):\n",
    "    letters = 0\n",
    "    for i in url:\n",
    "        if i.isalpha():\n",
    "            letters = letters + 1\n",
    "            return letters"
   ]
  },
  {
   "cell_type": "code",
   "execution_count": 28,
   "id": "6eafccb1-fccf-4213-86ed-6ef01fe23ad8",
   "metadata": {},
   "outputs": [],
   "source": [
    "from urllib.parse import urlparse\n",
    "from tld import get_tld \n",
    "\n",
    "def fd_length(url):\n",
    "    urlpath= urlparse(url).path\n",
    "    try:\n",
    "        return len(urlpath.split('/')[1])\n",
    "    except:\n",
    "        return 0"
   ]
  },
  {
   "cell_type": "code",
   "execution_count": 29,
   "id": "3759a79c-cef3-4a8d-8f02-accf80afbf05",
   "metadata": {},
   "outputs": [],
   "source": [
    "\n",
    "def tld_length(tld):\n",
    "    try:\n",
    "        return len(tld)\n",
    "    except:\n",
    "        return -1"
   ]
  },
  {
   "cell_type": "code",
   "execution_count": 30,
   "id": "6f5019dd-5328-428f-997d-47825b576108",
   "metadata": {},
   "outputs": [],
   "source": [
    "def prefixSuffix(url):\n",
    "    #domain = getDomain(url)\n",
    "    if re.search('-', domain):\n",
    "        return -1\n",
    "    else:\n",
    "        return 1"
   ]
  },
  {
   "cell_type": "code",
   "execution_count": 31,
   "id": "468b2f2a-949a-45fd-a0b1-995b023c8699",
   "metadata": {},
   "outputs": [],
   "source": [
    "#df['Prefix-Suffix'] = df['url'].apply(lambda i: prefixSuffix(i)) "
   ]
  },
  {
   "cell_type": "code",
   "execution_count": 32,
   "id": "000fe614-c1c4-49ad-8cdf-87f1565a28b6",
   "metadata": {},
   "outputs": [],
   "source": [
    "def has_php_path(url):\n",
    "    if \".php\" in url.lower():\n",
    "        return 1\n",
    "    else:\n",
    "        return -1 "
   ]
  },
  {
   "cell_type": "code",
   "execution_count": 33,
   "id": "dc9385d5-c1f2-43eb-855b-5cc836caeb9a",
   "metadata": {},
   "outputs": [],
   "source": [
    "def find_com_domain(url):\n",
    "    # Regular expression pattern to match URLs ending with .com\n",
    "    pattern = r'.com'\n",
    "    \n",
    "    # Check if the pattern matches the URL\n",
    "    if re.search(pattern, url):\n",
    "        return 1\n",
    "    else:\n",
    "        return -1"
   ]
  },
  {
   "cell_type": "code",
   "execution_count": 34,
   "id": "09abeb31-b873-464c-b303-295ad98db4a0",
   "metadata": {},
   "outputs": [],
   "source": [
    "def find_org_domain(url):\n",
    "    # Regular expression pattern to match URLs ending with .com\n",
    "    pattern = r'.org'\n",
    "    \n",
    "    # Check if the pattern matches the URL\n",
    "    if re.search(pattern, url):\n",
    "        return 1\n",
    "    else:\n",
    "        return -1"
   ]
  },
  {
   "cell_type": "code",
   "execution_count": 35,
   "id": "f253b066-10b8-4944-b637-541be79085f3",
   "metadata": {},
   "outputs": [],
   "source": [
    "def Download_URL(url):\n",
    "    # Regular expression pattern to match URLs ending with .com\n",
    "    pattern = r'Download'or r'download'\n",
    "    \n",
    "    # Check if the pattern matches the URL\n",
    "    if re.search(pattern, url):\n",
    "        return 1\n",
    "    else:\n",
    "        return -1"
   ]
  },
  {
   "cell_type": "code",
   "execution_count": 36,
   "id": "fd52c09e-3653-4abc-aed6-518eb38af998",
   "metadata": {},
   "outputs": [],
   "source": [
    "def url_zip_rar(url):\n",
    "    # Regular expression pattern to match URLs ending with .com\n",
    "    pattern = r'Rar'or r'rar' or r'Zip' or r'zip'\n",
    "    \n",
    "    # Check if the pattern matches the URL\n",
    "    if re.search(pattern, url):\n",
    "        return 1\n",
    "    else:\n",
    "        return -1"
   ]
  },
  {
   "cell_type": "code",
   "execution_count": 37,
   "id": "aee098cd-a4ae-47cd-b615-78edbb753677",
   "metadata": {},
   "outputs": [],
   "source": [
    "def checkSSL(url):\n",
    "    try:\n",
    "        # Parse the URL to extract the hostname\n",
    "        parsed_url = urlparse(url)\n",
    "        if parsed_url.scheme not in ['http', 'https']:\n",
    "            raise ValueError(\"URL must start with 'http://' or 'https://'\")\n",
    "        hostname = parsed_url.hostname\n",
    "        \n",
    "        # Encode the hostname using idna\n",
    "        hostname_idna = idna.encode(hostname)\n",
    "        \n",
    "        # Determine the port based on the scheme\n",
    "        port = 443 if parsed_url.scheme == 'https' else 80\n",
    "        \n",
    "        # Create a socket\n",
    "        s = socket.create_connection((hostname, port))\n",
    "        \n",
    "        # Create a SSL context\n",
    "        context = ssl.create_default_context()\n",
    "        s.close()\n",
    "        # Wrap the socket with SSL\n",
    "        with context.wrap_socket(s, server_hostname=hostname) as sock:\n",
    "            # SSL connection established successfully\n",
    "            return 1\n",
    "    except ssl.SSLError as e:\n",
    "        # SSL error occurred (self-signed certificate or other SSL-related errors)\n",
    "        return 0\n",
    "    except Exception as e:\n",
    "        # Other errors occurred\n",
    "        print(f\"Error checking SSL certificate: {e}\")\n",
    "        return -1"
   ]
  },
  {
   "cell_type": "code",
   "execution_count": 38,
   "id": "d6e14e7a-5db8-4eaf-96c3-4ac8cbeb3620",
   "metadata": {},
   "outputs": [],
   "source": [
    "#df['SSL Cert Check'] = df['url'].apply(lambda i: checkSSL(i))"
   ]
  },
  {
   "cell_type": "code",
   "execution_count": 39,
   "id": "d6631ba8-c5bb-43f9-9926-493051be3cfc",
   "metadata": {},
   "outputs": [],
   "source": [
    "def checkSubdomains(domain):\n",
    "\t'''if len(domain.split('.')) > 3:\n",
    "\t\treturn -1\n",
    "\telif len(domain.split('.')) == 3:\n",
    "\t\treturn 0\n",
    "\telse:\n",
    "\t\treturn 1'''\n",
    "\treturn len(domain.split('.'))\n",
    "df['Subdomains'] = df['url'].apply(lambda i: checkSubdomains(i))"
   ]
  },
  {
   "cell_type": "code",
   "execution_count": 40,
   "id": "0efe72ad-d84f-41d9-b996-e46ffa48c746",
   "metadata": {},
   "outputs": [],
   "source": [
    "df = df.where((pd.notnull(df)),'')"
   ]
  },
  {
   "cell_type": "code",
   "execution_count": 41,
   "id": "13c8fcc3-2d12-4efe-886f-17625b554fd6",
   "metadata": {},
   "outputs": [
    {
     "data": {
      "text/plain": [
       "'sns.set(style=\"darkgrid\")\\nax = sns.countplot(y=\\'type_code\\' , data=df, hue=\"SSL Cert Check\")'"
      ]
     },
     "execution_count": 41,
     "metadata": {},
     "output_type": "execute_result"
    }
   ],
   "source": [
    "'''sns.set(style=\"darkgrid\")\n",
    "ax = sns.countplot(y='type_code' , data=df, hue=\"SSL Cert Check\")'''"
   ]
  },
  {
   "cell_type": "raw",
   "id": "07f125ed-d7e4-4f20-883f-8bb9ebf27446",
   "metadata": {},
   "source": [
    "sns.set(style=\"darkgrid\")\n",
    "ax = sns.countplot(y='type_code' , data=df, hue=\"ORG Domain\")"
   ]
  },
  {
   "cell_type": "code",
   "execution_count": 42,
   "id": "d68e1029-35d1-4b77-b195-2a1905a49b3b",
   "metadata": {
    "scrolled": true
   },
   "outputs": [
    {
     "name": "stdout",
     "output_type": "stream",
     "text": [
      "(651194, 25)\n",
      "(651194,)\n"
     ]
    }
   ],
   "source": [
    "X = df[['use_of_ip','abnormal_url', 'count.', 'count-www', 'count@',\n",
    "    'count_dir', 'count_embed_domian', 'short_url', 'count-https',\n",
    "    'count-http', 'count%', 'count?', 'count-', 'count=', 'url_length',\n",
    "    'hostname_length', 'sus_url', 'fd_length', 'tld_length', 'count-digits',\n",
    "    'count-letters','Has PHP Pages','COM Domain','ORG Domain','Subdomains']]\n",
    "print(X.shape)\n",
    "X.head()\n",
    "from sklearn.preprocessing import LabelEncoder\n",
    "lb_make = LabelEncoder()\n",
    "df[\"type_code\"] = lb_make.fit_transform(df[\"type\"])\n",
    "y = df['type_code']\n",
    "print(y.shape)"
   ]
  },
  {
   "cell_type": "code",
   "execution_count": 43,
   "id": "c318cb1e-e996-4ad9-9d3d-8742d4eb7454",
   "metadata": {
    "scrolled": true
   },
   "outputs": [],
   "source": [
    "X_train, X_test, y_train, y_test = train_test_split(X, y, test_size=0.4, random_state=0)"
   ]
  },
  {
   "cell_type": "code",
   "execution_count": 44,
   "id": "afc57195-59d0-4072-a981-8ebb2d359ee6",
   "metadata": {},
   "outputs": [],
   "source": [
    "from sklearn.preprocessing import StandardScaler\n",
    "st_x = StandardScaler()\n",
    "X_train = st_x.fit_transform(X_train)\n",
    "X_test = st_x.transform(X_test)\n",
    "y_train = y_train.astype('int')\n",
    "y_test = y_test.astype('int')"
   ]
  },
  {
   "cell_type": "code",
   "execution_count": 45,
   "id": "374f2c73-3e09-43da-9c1d-21f4ac39bfff",
   "metadata": {},
   "outputs": [
    {
     "name": "stdout",
     "output_type": "stream",
     "text": [
      "Training Accuracy: 0.8694089824834407\n",
      "Training Classification Report:\n",
      "              precision    recall  f1-score   support\n",
      "\n",
      "      benign       0.89      0.97      0.93    256353\n",
      "  defacement       0.84      0.94      0.89     58204\n",
      "    phishing       0.80      0.69      0.74     19601\n",
      "     malware       0.75      0.41      0.53     56558\n",
      "\n",
      "    accuracy                           0.87    390716\n",
      "   macro avg       0.82      0.75      0.77    390716\n",
      "weighted avg       0.86      0.87      0.86    390716\n",
      "\n",
      "Test Accuracy: 0.8706877356245057\n",
      "Test Classification Report:\n",
      "              precision    recall  f1-score   support\n",
      "\n",
      "      benign       0.90      0.97      0.93    171753\n",
      "  defacement       0.84      0.94      0.89     38253\n",
      "    phishing       0.79      0.68      0.74     12919\n",
      "     malware       0.75      0.42      0.53     37553\n",
      "\n",
      "    accuracy                           0.87    260478\n",
      "   macro avg       0.82      0.75      0.77    260478\n",
      "weighted avg       0.86      0.87      0.86    260478\n",
      "\n"
     ]
    }
   ],
   "source": [
    "model = LogisticRegression()\n",
    "model.fit(X_train, y_train)\n",
    "    # Make predictions on training and test data\n",
    "y_pred_train = model.predict(X_train)\n",
    "y_pred_test = model.predict(X_test)\n",
    "# Calculate accuracy and print reports\n",
    "accuracy_train = accuracy_score(y_train, y_pred_train)\n",
    "print(\"Training Accuracy:\", accuracy_train)\n",
    "print(\"Training Classification Report:\")\n",
    "print(classification_report(y_train, y_pred_train, target_names=['benign', 'defacement', 'phishing', 'malware']))\n",
    "\n",
    "accuracy_test = accuracy_score(y_test, y_pred_test)\n",
    "print(\"Test Accuracy:\", accuracy_test)\n",
    "print(\"Test Classification Report:\")\n",
    "print(classification_report(y_test, y_pred_test, target_names=['benign', 'defacement', 'phishing', 'malware']))"
   ]
  },
  {
   "cell_type": "code",
   "execution_count": 46,
   "id": "7bf968a3-4f2f-4659-a2f3-3f4135875789",
   "metadata": {},
   "outputs": [],
   "source": [
    "def evaluate_model(model, X_train, y_train, X_test, y_test):\n",
    "    # Train the model\n",
    "    model.fit(X_train, y_train)\n",
    "\n",
    "    # Make predictions on training and test data\n",
    "    y_pred_train = model.predict(X_train)\n",
    "    y_pred_test = model.predict(X_test)\n",
    "\n",
    "    # Calculate accuracy and print reports\n",
    "    accuracy_train = accuracy_score(y_train, y_pred_train)\n",
    "    print(\"Training Accuracy:\", accuracy_train)\n",
    "    print(\"Training Classification Report:\")\n",
    "    print(classification_report(y_train, y_pred_train, target_names=['benign', 'defacement', 'phishing', 'malware']))\n",
    "\n",
    "    accuracy_test = accuracy_score(y_test, y_pred_test)\n",
    "    print(\"Test Accuracy:\", accuracy_test)\n",
    "    print(\"Test Classification Report:\")\n",
    "    print(classification_report(y_test, y_pred_test, target_names=['benign', 'defacement', 'phishing', 'malware']))"
   ]
  },
  {
   "cell_type": "code",
   "execution_count": 47,
   "id": "133cbfb2-3993-45c2-bd28-095898662555",
   "metadata": {
    "scrolled": true
   },
   "outputs": [
    {
     "name": "stdout",
     "output_type": "stream",
     "text": [
      "              precision    recall  f1-score   support\n",
      "\n",
      "      benign       0.98      0.99      0.98    256353\n",
      "  defacement       0.99      0.99      0.99     58204\n",
      "    phishing       0.98      0.95      0.97     19601\n",
      "     malware       0.93      0.90      0.92     56558\n",
      "\n",
      "    accuracy                           0.97    390716\n",
      "   macro avg       0.97      0.96      0.96    390716\n",
      "weighted avg       0.97      0.97      0.97    390716\n",
      "\n",
      "accuracy: 0.974\n",
      "              precision    recall  f1-score   support\n",
      "\n",
      "      benign       0.97      0.98      0.97    171753\n",
      "  defacement       0.97      0.97      0.97     38253\n",
      "    phishing       0.94      0.93      0.94     12919\n",
      "     malware       0.86      0.83      0.85     37553\n",
      "\n",
      "    accuracy                           0.95    260478\n",
      "   macro avg       0.93      0.93      0.93    260478\n",
      "weighted avg       0.95      0.95      0.95    260478\n",
      "\n",
      "accuracy: 0.953\n"
     ]
    }
   ],
   "source": [
    "from sklearn.ensemble import RandomForestClassifier\n",
    "rf = RandomForestClassifier(n_estimators=1,max_features='sqrt',criterion=\"entropy\")\n",
    "rf.fit(X_train, y_train)\n",
    "prediction_on_traning_data = rf.predict(X_train)\n",
    "print(classification_report(y_train, prediction_on_traning_data, target_names=['benign', 'defacement','phishing','malware']))\n",
    "accuracy_on_traning_data = accuracy_score(y_train, prediction_on_traning_data)\n",
    "print(\"accuracy: %0.3f\" % accuracy_on_traning_data)\n",
    "prediction_on_test_data = rf.predict(X_test)\n",
    "print(classification_report(y_test, prediction_on_test_data, target_names=['benign', 'defacement','phishing','malware']))\n",
    "accuracy_on_test_data = accuracy_score(y_test, prediction_on_test_data)\n",
    "print(\"accuracy: %0.3f\" % accuracy_on_test_data)"
   ]
  },
  {
   "cell_type": "code",
   "execution_count": 48,
   "id": "1ae04d1d-2494-4859-b7e5-034375739d82",
   "metadata": {
    "scrolled": true
   },
   "outputs": [
    {
     "data": {
      "image/png": "[encoded data removed]",
      "text/plain": [
       "<Figure size 800x600 with 2 Axes>"
      ]
     },
     "metadata": {},
     "output_type": "display_data"
    },
    {
     "data": {
      "image/png": "[encoded data removed]",
      "text/plain": [
       "<Figure size 800x600 with 2 Axes>"
      ]
     },
     "metadata": {},
     "output_type": "display_data"
    }
   ],
   "source": [
    "cm = confusion_matrix(y_train, prediction_on_traning_data)\n",
    "cm_df = pd.DataFrame(cm, index = ['benign', 'defacement','phishing','malware'],\n",
    "                         columns = ['benign', 'defacement','phishing','malware'])\n",
    "plt.figure(figsize=(8,6))\n",
    "sns.heatmap(cm_df, annot=True, fmt=\".1f\")\n",
    "plt.title('Confusion Matrix')\n",
    "plt.ylabel('Actal Values')\n",
    "plt.xlabel('Predicted Values')\n",
    "plt.show()\n",
    "cm = confusion_matrix(y_test, prediction_on_test_data)\n",
    "cm_df = pd.DataFrame(cm, index = ['benign', 'defacement','phishing','malware'],\n",
    "                         columns = ['benign', 'defacement','phishing','malware'])\n",
    "plt.figure(figsize=(8,6))\n",
    "sns.heatmap(cm_df, annot=True, fmt=\".1f\")\n",
    "plt.title('Confusion Matrix')\n",
    "plt.ylabel('Actal Values')\n",
    "plt.xlabel('Predicted Values')\n",
    "plt.show()"
   ]
  },
  {
   "cell_type": "code",
   "execution_count": 49,
   "id": "a43e794a-9cc3-4986-a00a-bf5e3c7c8fe3",
   "metadata": {
    "scrolled": true
   },
   "outputs": [
    {
     "name": "stdout",
     "output_type": "stream",
     "text": [
      "[LightGBM] [Warning] Unknown parameter: silent\n",
      "[LightGBM] [Warning] Unknown parameter: silent\n",
      "[LightGBM] [Info] Auto-choosing row-wise multi-threading, the overhead of testing was 0.064444 seconds.\n",
      "You can set `force_row_wise=true` to remove the overhead.\n",
      "And if memory is not enough, you can set `force_col_wise=true`.\n",
      "[LightGBM] [Info] Total Bins 798\n",
      "[LightGBM] [Info] Number of data points in the train set: 390716, number of used features: 25\n",
      "[LightGBM] [Info] Start training from score -0.421426\n",
      "[LightGBM] [Info] Start training from score -1.904027\n",
      "[LightGBM] [Info] Start training from score -2.992400\n",
      "[LightGBM] [Info] Start training from score -1.932714\n",
      "[LightGBM] [Warning] Unknown parameter: silent\n",
      "              precision    recall  f1-score   support\n",
      "\n",
      "      benign       0.97      0.99      0.98    171753\n",
      "  defacement       0.96      0.99      0.97     38253\n",
      "    phishing       0.97      0.90      0.93     12919\n",
      "     malware       0.91      0.83      0.87     37553\n",
      "\n",
      "    accuracy                           0.96    260478\n",
      "   macro avg       0.95      0.93      0.94    260478\n",
      "weighted avg       0.96      0.96      0.96    260478\n",
      "\n",
      "accuracy: 0.960\n"
     ]
    }
   ],
   "source": [
    "lgb = LGBMClassifier(objective='multiclass',boosting_type= 'gbdt',n_jobs = 5, silent = True, random_state=5)\n",
    "LGB_C = lgb.fit(X_train, y_train)\n",
    "y_pred_lgb = LGB_C.predict(X_test)\n",
    "print(classification_report(y_test,y_pred_lgb,target_names=['benign', 'defacement','phishing','malware']))\n",
    "score = accuracy_score(y_test, y_pred_lgb)\n",
    "print(\"accuracy: %0.3f\" % score)"
   ]
  },
  {
   "cell_type": "code",
   "execution_count": 50,
   "id": "50086917-d5a8-479a-8fe5-17c8b035f97e",
   "metadata": {
    "scrolled": true
   },
   "outputs": [
    {
     "data": {
      "image/png": "[encoded data removed]",
      "text/plain": [
       "<Figure size 800x600 with 2 Axes>"
      ]
     },
     "metadata": {},
     "output_type": "display_data"
    }
   ],
   "source": [
    "cm = confusion_matrix(y_test, y_pred_lgb)\n",
    "cm_df = pd.DataFrame(cm, index = ['benign', 'defacement','phishing','malware'],\n",
    "                         columns = ['benign', 'defacement','phishing','malware'])\n",
    "plt.figure(figsize=(8,6))\n",
    "sns.heatmap(cm_df, annot=True, fmt=\".1f\")\n",
    "plt.title('Confusion Matrix')\n",
    "plt.ylabel('Actal Values')\n",
    "plt.xlabel('Predicted Values')\n",
    "plt.show()"
   ]
  },
  {
   "cell_type": "code",
   "execution_count": 51,
   "id": "4815932e-af15-4bdd-84f6-dce0444a5365",
   "metadata": {
    "scrolled": true
   },
   "outputs": [
    {
     "name": "stdout",
     "output_type": "stream",
     "text": [
      "              precision    recall  f1-score   support\n",
      "\n",
      "      benign       0.97      0.99      0.98    256353\n",
      "  defacement       0.97      0.99      0.98     58204\n",
      "    phishing       0.98      0.92      0.95     19601\n",
      "     malware       0.92      0.84      0.88     56558\n",
      "\n",
      "    accuracy                           0.96    390716\n",
      "   macro avg       0.96      0.93      0.95    390716\n",
      "weighted avg       0.96      0.96      0.96    390716\n",
      "\n",
      "accuracy: 0.964\n",
      "              precision    recall  f1-score   support\n",
      "\n",
      "      benign       0.97      0.99      0.98    171753\n",
      "  defacement       0.97      0.99      0.98     38253\n",
      "    phishing       0.97      0.92      0.94     12919\n",
      "     malware       0.92      0.83      0.87     37553\n",
      "\n",
      "    accuracy                           0.96    260478\n",
      "   macro avg       0.96      0.93      0.94    260478\n",
      "weighted avg       0.96      0.96      0.96    260478\n",
      "\n",
      "accuracy: 0.962\n"
     ]
    }
   ],
   "source": [
    "xgb_c = xgb.XGBClassifier(n_estimators= 100)\n",
    "xgb_c.fit(X_train,y_train)\n",
    "prediction_on_traning_data = xgb_c.predict(X_train)\n",
    "print(classification_report(y_train,prediction_on_traning_data,target_names=['benign', 'defacement','phishing','malware']))\n",
    "accuracy_on_traning_data = accuracy_score(y_train, prediction_on_traning_data)\n",
    "print(\"accuracy: %0.3f\" % accuracy_on_traning_data)\n",
    "prediction_on_test_data = xgb_c.predict(X_test)\n",
    "print(classification_report(y_test, prediction_on_test_data, target_names=['benign', 'defacement','phishing','malware']))\n",
    "accuracy_on_test_data = accuracy_score(y_test, prediction_on_test_data)\n",
    "print(\"accuracy: %0.3f\" % accuracy_on_test_data)"
   ]
  },
  {
   "cell_type": "code",
   "execution_count": 52,
   "id": "7da5cc62-2b0b-4184-9cdf-e355128d0632",
   "metadata": {
    "scrolled": true
   },
   "outputs": [
    {
     "data": {
      "image/png": "[encoded data removed]",
      "text/plain": [
       "<Figure size 800x600 with 2 Axes>"
      ]
     },
     "metadata": {},
     "output_type": "display_data"
    }
   ],
   "source": [
    "cm = confusion_matrix(y_train, prediction_on_traning_data)\n",
    "cm_df = pd.DataFrame(cm, index = ['benign', 'defacement','phishing','malware'],\n",
    "                         columns = ['benign', 'defacement','phishing','malware'])\n",
    "plt.figure(figsize=(8,6))\n",
    "sns.heatmap(cm_df, annot=True, fmt=\".1f\")\n",
    "plt.title('Confusion Matrix')\n",
    "plt.ylabel('Actal Values')\n",
    "plt.xlabel('Predicted Values')\n",
    "plt.show()"
   ]
  },
  {
   "cell_type": "code",
   "execution_count": 53,
   "id": "ec6ee287-25f6-4fdd-8f3c-a7da53e506ea",
   "metadata": {},
   "outputs": [
    {
     "data": {
      "text/plain": [
       "'# Predict and display type for a user-provided URL\\nurl = input(\"Enter the URL: \")\\npredicted_label = get_prediction_from_url(url, model)\\nprint(\"Predicted type:\", predicted_label)\\n\\n# Placeholder for the actual URL test set and labels\\nX_test = [\\'https://www.google.com\\']  # Example URLs\\ny_test = [\\'type_code\\']  # Corresponding true labels\\n\\n# Predict types for the test dataset\\ny_pred_test = [get_prediction_from_url(url, model) for url in X_test]\\n\\n# Calculate and print the accuracy\\naccuracy = accuracy_score(y_test, y_pred_test)\\nprint(f\"Accuracy: {accuracy:.3f}\")'"
      ]
     },
     "execution_count": 53,
     "metadata": {},
     "output_type": "execute_result"
    }
   ],
   "source": [
    "from sklearn.metrics import accuracy_score\n",
    "\n",
    "def main(url):\n",
    "    # Define the logic to extract features from the URL\n",
    "    domain = getDomain(url)\n",
    "    status = []\n",
    "    status.append(having_ip_address(url))\n",
    "    status.append(abnormal_url(url))\n",
    "    status.append(count_dot(url))\n",
    "    status.append(count_www(url))\n",
    "    status.append(count_atrate(url))\n",
    "    status.append(no_of_dir(url))\n",
    "    status.append(no_of_embed(url))\n",
    "    status.append(shortening_service(url))\n",
    "    status.append(count_https(url))\n",
    "    status.append(count_http(url))\n",
    "    status.append(count_per(url))\n",
    "    status.append(count_ques(url))\n",
    "    status.append(count_hyphen(url))\n",
    "    status.append(count_equal(url))\n",
    "    status.append(url_length(url))\n",
    "    status.append(hostname_length(url))\n",
    "    status.append(suspicious_words(url))\n",
    "    status.append(digit_count(url))\n",
    "    status.append(letter_count(url))\n",
    "    status.append(fd_length(url))\n",
    "    tld = get_tld(url, fail_silently=True)\n",
    "    status.append(tld_length(tld))\n",
    "    status.append(has_php_path(url))\n",
    "    status.append(find_com_domain(url))\n",
    "    status.append(find_org_domain(url))\n",
    "    status.append(checkSubdomains(domain))\n",
    "    return status\n",
    "\n",
    "import numpy as np\n",
    "from sklearn.metrics import accuracy_score\n",
    "\n",
    "\n",
    "def get_prediction_from_url(test_url, model):\n",
    "    features_test = main(test_url)\n",
    "    features_test = np.array(features_test).reshape(1, -1)\n",
    "    pred = model.predict(features_test)\n",
    "    return pred[0]\n",
    "\n",
    "\n",
    "'''# Predict and display type for a user-provided URL\n",
    "url = input(\"Enter the URL: \")\n",
    "predicted_label = get_prediction_from_url(url, model)\n",
    "print(\"Predicted type:\", predicted_label)\n",
    "\n",
    "# Placeholder for the actual URL test set and labels\n",
    "X_test = ['https://www.google.com']  # Example URLs\n",
    "y_test = ['type_code']  # Corresponding true labels\n",
    "\n",
    "# Predict types for the test dataset\n",
    "y_pred_test = [get_prediction_from_url(url, model) for url in X_test]\n",
    "\n",
    "# Calculate and print the accuracy\n",
    "accuracy = accuracy_score(y_test, y_pred_test)\n",
    "print(f\"Accuracy: {accuracy:.3f}\")'''"
   ]
  },
  {
   "cell_type": "code",
   "execution_count": 54,
   "id": "984eeb56-23c2-4932-8a25-430e6a9e138e",
   "metadata": {},
   "outputs": [
    {
     "name": "stdout",
     "output_type": "stream",
     "text": [
      "Enter the URL https://www.icai.org/\n"
     ]
    },
    {
     "name": "stdout",
     "output_type": "stream",
     "text": [
      "SAFE\n"
     ]
    }
   ],
   "source": [
    "def get_prediction_from_url(test_url, model):\n",
    "    features_test = main(test_url)\n",
    "    features_test = np.array(features_test).reshape((1, -1))\n",
    "    pred = model.predict(features_test)\n",
    "    predicted_label = int(pred[0])\n",
    "    if int(pred[0]) == 0:\n",
    "        res=\"MALWARE\"\n",
    "        return res\n",
    "    elif int(pred[0]) == 1.0:\n",
    "        res=\"DEFACEMENT\"\n",
    "        return res\n",
    "    elif int(pred[0]) == 2.0:\n",
    "        res=\"PHISHING\"\n",
    "        return res\n",
    "    elif int(pred[0]) == 3.0:\n",
    "        res=\"SAFE\"\n",
    "        return res\n",
    "url = input(\"Enter the URL\")\n",
    "print(get_prediction_from_url(url, model))"
   ]
  },
  {
   "cell_type": "code",
   "execution_count": 55,
   "id": "c0d6c681-29e4-43bc-be8a-0b7234804fa9",
   "metadata": {},
   "outputs": [
    {
     "name": "stdout",
     "output_type": "stream",
     "text": [
      "Enter the URL https://www.icai.org/\n"
     ]
    },
    {
     "name": "stdout",
     "output_type": "stream",
     "text": [
      "SAFE\n"
     ]
    }
   ],
   "source": [
    "def get_prediction_from_url(test_url):\n",
    "    features_test = main(test_url)\n",
    "    # Due to updates tohttps://www.google.com scikit-learn, we now need a 2D array as a parameter to the predict function.\n",
    "    features_test = np.array(features_test).reshape((1, -1))\n",
    "    pred = xgb_c.predict(features_test)\n",
    "    if int(pred[0]) == 0:\n",
    "        res=\"MALWARE\"\n",
    "        return res\n",
    "    elif int(pred[0]) == 1.0:\n",
    "        res=\"DEFACEMENT\"\n",
    "        return res\n",
    "    elif int(pred[0]) == 2.0:\n",
    "        res=\"PHISHING\"\n",
    "        return res\n",
    "    elif int(pred[0]) == 3.0:\n",
    "        res=\"SAFE\"\n",
    "        return res\n",
    "url = input(\"Enter the URL\")\n",
    "print(get_prediction_from_url(url))"
   ]
  },
  {
   "cell_type": "code",
   "execution_count": 56,
   "id": "5cddc608-9880-4ff2-8fea-f653ea6d2fd2",
   "metadata": {},
   "outputs": [
    {
     "name": "stdout",
     "output_type": "stream",
     "text": [
      "Enter the URL https://www.icai.org/\n"
     ]
    },
    {
     "name": "stdout",
     "output_type": "stream",
     "text": [
      "Phishing\n"
     ]
    }
   ],
   "source": [
    "def get_prediction_from_url(test_url):\n",
    "    features_test = main(test_url)\n",
    "    # Due to updates to scikit-learn, we now need a 2D array as a parameter to the predict function.\n",
    "    features_test = np.array(features_test).reshape((1, -1))\n",
    "    pred = rf.predict(features_test)\n",
    "    if int(pred[0]) == 0:\n",
    "        res=\"MALWARE\"\n",
    "        return res\n",
    "    elif int(pred[0]) == 1.0:\n",
    "        res=\"Phishing\"\n",
    "        return res\n",
    "    elif int(pred[0]) == 2.0:\n",
    "        res=\"PHISHING\"\n",
    "        return res\n",
    "    elif int(pred[0]) == 3.0:\n",
    "        res=\"SAFE\"\n",
    "        return res\n",
    "url = input(\"Enter the URL\")\n",
    "print(get_prediction_from_url(url))"
   ]
  },
  {
   "cell_type": "code",
   "execution_count": 57,
   "id": "a4c5085c-ba26-47d5-8fcd-df294139ffc0",
   "metadata": {},
   "outputs": [
    {
     "name": "stdout",
     "output_type": "stream",
     "text": [
      "Enter the URL https://www.icai.org/\n"
     ]
    },
    {
     "name": "stdout",
     "output_type": "stream",
     "text": [
      "SAFE\n"
     ]
    }
   ],
   "source": [
    "def get_prediction_from_url(test_url):\n",
    "    features_test = main(test_url)\n",
    "    # Due to updates to scikit-learn, we now need a 2D array as a parameter to the predict function.\n",
    "    features_test = np.array(features_test).reshape((1, -1))\n",
    "    pred = xgb_c.predict(features_test)\n",
    "    if int(pred[0]) == 0:\n",
    "        res=\"MALWARE\"\n",
    "        return res\n",
    "    elif int(pred[0]) == 1.0:\n",
    "        res=\"DEFACEMENT\"\n",
    "        return res\n",
    "    elif int(pred[0]) == 2.0:\n",
    "        res=\"PHISHING\"\n",
    "        return res\n",
    "    elif int(pred[0]) == 3.0:\n",
    "        res=\"SAFE\"\n",
    "        return res\n",
    "url = input(\"Enter the URL\")\n",
    "print(get_prediction_from_url(url))"
   ]
  },
  {
   "cell_type": "code",
   "execution_count": 58,
   "id": "c3718ac9-fb00-46df-996d-4b77849ca433",
   "metadata": {},
   "outputs": [],
   "source": [
    "from sklearn.neighbors import KNeighborsClassifier\n",
    "knn = KNeighborsClassifier(n_neighbors = 5)"
   ]
  },
  {
   "cell_type": "code",
   "execution_count": 59,
   "id": "882b844e-b0bb-4bcb-a431-5fde0a78e3df",
   "metadata": {},
   "outputs": [
    {
     "data": {
      "text/html": [
       "<style>#sk-container-id-1 {\n",
       "  /* Definition of color scheme common for light and dark mode */\n",
       "  --sklearn-color-text: black;\n",
       "  --sklearn-color-line: gray;\n",
       "  /* Definition of color scheme for unfitted estimators */\n",
       "  --sklearn-color-unfitted-level-0: #fff5e6;\n",
       "  --sklearn-color-unfitted-level-1: #f6e4d2;\n",
       "  --sklearn-color-unfitted-level-2: #ffe0b3;\n",
       "  --sklearn-color-unfitted-level-3: chocolate;\n",
       "  /* Definition of color scheme for fitted estimators */\n",
       "  --sklearn-color-fitted-level-0: #f0f8ff;\n",
       "  --sklearn-color-fitted-level-1: #d4ebff;\n",
       "  --sklearn-color-fitted-level-2: #b3dbfd;\n",
       "  --sklearn-color-fitted-level-3: cornflowerblue;\n",
       "\n",
       "  /* Specific color for light theme */\n",
       "  --sklearn-color-text-on-default-background: var(--sg-text-color, var(--theme-code-foreground, var(--jp-content-font-color1, black)));\n",
       "  --sklearn-color-background: var(--sg-background-color, var(--theme-background, var(--jp-layout-color0, white)));\n",
       "  --sklearn-color-border-box: var(--sg-text-color, var(--theme-code-foreground, var(--jp-content-font-color1, black)));\n",
       "  --sklearn-color-icon: #696969;\n",
       "\n",
       "  @media (prefers-color-scheme: dark) {\n",
       "    /* Redefinition of color scheme for dark theme */\n",
       "    --sklearn-color-text-on-default-background: var(--sg-text-color, var(--theme-code-foreground, var(--jp-content-font-color1, white)));\n",
       "    --sklearn-color-background: var(--sg-background-color, var(--theme-background, var(--jp-layout-color0, #111)));\n",
       "    --sklearn-color-border-box: var(--sg-text-color, var(--theme-code-foreground, var(--jp-content-font-color1, white)));\n",
       "    --sklearn-color-icon: #878787;\n",
       "  }\n",
       "}\n",
       "\n",
       "#sk-container-id-1 {\n",
       "  color: var(--sklearn-color-text);\n",
       "}\n",
       "\n",
       "#sk-container-id-1 pre {\n",
       "  padding: 0;\n",
       "}\n",
       "\n",
       "#sk-container-id-1 input.sk-hidden--visually {\n",
       "  border: 0;\n",
       "  clip: rect(1px 1px 1px 1px);\n",
       "  clip: rect(1px, 1px, 1px, 1px);\n",
       "  height: 1px;\n",
       "  margin: -1px;\n",
       "  overflow: hidden;\n",
       "  padding: 0;\n",
       "  position: absolute;\n",
       "  width: 1px;\n",
       "}\n",
       "\n",
       "#sk-container-id-1 div.sk-dashed-wrapped {\n",
       "  border: 1px dashed var(--sklearn-color-line);\n",
       "  margin: 0 0.4em 0.5em 0.4em;\n",
       "  box-sizing: border-box;\n",
       "  padding-bottom: 0.4em;\n",
       "  background-color: var(--sklearn-color-background);\n",
       "}\n",
       "\n",
       "#sk-container-id-1 div.sk-container {\n",
       "  /* jupyter's `normalize.less` sets `[hidden] { display: none; }`\n",
       "     but bootstrap.min.css set `[hidden] { display: none !important; }`\n",
       "     so we also need the `!important` here to be able to override the\n",
       "     default hidden behavior on the sphinx rendered scikit-learn.org.\n",
       "     See: https://github.com/scikit-learn/scikit-learn/issues/21755 */\n",
       "  display: inline-block !important;\n",
       "  position: relative;\n",
       "}\n",
       "\n",
       "#sk-container-id-1 div.sk-text-repr-fallback {\n",
       "  display: none;\n",
       "}\n",
       "\n",
       "div.sk-parallel-item,\n",
       "div.sk-serial,\n",
       "div.sk-item {\n",
       "  /* draw centered vertical line to link estimators */\n",
       "  background-image: linear-gradient(var(--sklearn-color-text-on-default-background), var(--sklearn-color-text-on-default-background));\n",
       "  background-size: 2px 100%;\n",
       "  background-repeat: no-repeat;\n",
       "  background-position: center center;\n",
       "}\n",
       "\n",
       "/* Parallel-specific style estimator block */\n",
       "\n",
       "#sk-container-id-1 div.sk-parallel-item::after {\n",
       "  content: \"\";\n",
       "  width: 100%;\n",
       "  border-bottom: 2px solid var(--sklearn-color-text-on-default-background);\n",
       "  flex-grow: 1;\n",
       "}\n",
       "\n",
       "#sk-container-id-1 div.sk-parallel {\n",
       "  display: flex;\n",
       "  align-items: stretch;\n",
       "  justify-content: center;\n",
       "  background-color: var(--sklearn-color-background);\n",
       "  position: relative;\n",
       "}\n",
       "\n",
       "#sk-container-id-1 div.sk-parallel-item {\n",
       "  display: flex;\n",
       "  flex-direction: column;\n",
       "}\n",
       "\n",
       "#sk-container-id-1 div.sk-parallel-item:first-child::after {\n",
       "  align-self: flex-end;\n",
       "  width: 50%;\n",
       "}\n",
       "\n",
       "#sk-container-id-1 div.sk-parallel-item:last-child::after {\n",
       "  align-self: flex-start;\n",
       "  width: 50%;\n",
       "}\n",
       "\n",
       "#sk-container-id-1 div.sk-parallel-item:only-child::after {\n",
       "  width: 0;\n",
       "}\n",
       "\n",
       "/* Serial-specific style estimator block */\n",
       "\n",
       "#sk-container-id-1 div.sk-serial {\n",
       "  display: flex;\n",
       "  flex-direction: column;\n",
       "  align-items: center;\n",
       "  background-color: var(--sklearn-color-background);\n",
       "  padding-right: 1em;\n",
       "  padding-left: 1em;\n",
       "}\n",
       "\n",
       "\n",
       "/* Toggleable style: style used for estimator/Pipeline/ColumnTransformer box that is\n",
       "clickable and can be expanded/collapsed.\n",
       "- Pipeline and ColumnTransformer use this feature and define the default style\n",
       "- Estimators will overwrite some part of the style using the `sk-estimator` class\n",
       "*/\n",
       "\n",
       "/* Pipeline and ColumnTransformer style (default) */\n",
       "\n",
       "#sk-container-id-1 div.sk-toggleable {\n",
       "  /* Default theme specific background. It is overwritten whether we have a\n",
       "  specific estimator or a Pipeline/ColumnTransformer */\n",
       "  background-color: var(--sklearn-color-background);\n",
       "}\n",
       "\n",
       "/* Toggleable label */\n",
       "#sk-container-id-1 label.sk-toggleable__label {\n",
       "  cursor: pointer;\n",
       "  display: block;\n",
       "  width: 100%;\n",
       "  margin-bottom: 0;\n",
       "  padding: 0.5em;\n",
       "  box-sizing: border-box;\n",
       "  text-align: center;\n",
       "}\n",
       "\n",
       "#sk-container-id-1 label.sk-toggleable__label-arrow:before {\n",
       "  /* Arrow on the left of the label */\n",
       "  content: \"▸\";\n",
       "  float: left;\n",
       "  margin-right: 0.25em;\n",
       "  color: var(--sklearn-color-icon);\n",
       "}\n",
       "\n",
       "#sk-container-id-1 label.sk-toggleable__label-arrow:hover:before {\n",
       "  color: var(--sklearn-color-text);\n",
       "}\n",
       "\n",
       "/* Toggleable content - dropdown */\n",
       "\n",
       "#sk-container-id-1 div.sk-toggleable__content {\n",
       "  max-height: 0;\n",
       "  max-width: 0;\n",
       "  overflow: hidden;\n",
       "  text-align: left;\n",
       "  /* unfitted */\n",
       "  background-color: var(--sklearn-color-unfitted-level-0);\n",
       "}\n",
       "\n",
       "#sk-container-id-1 div.sk-toggleable__content.fitted {\n",
       "  /* fitted */\n",
       "  background-color: var(--sklearn-color-fitted-level-0);\n",
       "}\n",
       "\n",
       "#sk-container-id-1 div.sk-toggleable__content pre {\n",
       "  margin: 0.2em;\n",
       "  border-radius: 0.25em;\n",
       "  color: var(--sklearn-color-text);\n",
       "  /* unfitted */\n",
       "  background-color: var(--sklearn-color-unfitted-level-0);\n",
       "}\n",
       "\n",
       "#sk-container-id-1 div.sk-toggleable__content.fitted pre {\n",
       "  /* unfitted */\n",
       "  background-color: var(--sklearn-color-fitted-level-0);\n",
       "}\n",
       "\n",
       "#sk-container-id-1 input.sk-toggleable__control:checked~div.sk-toggleable__content {\n",
       "  /* Expand drop-down */\n",
       "  max-height: 200px;\n",
       "  max-width: 100%;\n",
       "  overflow: auto;\n",
       "}\n",
       "\n",
       "#sk-container-id-1 input.sk-toggleable__control:checked~label.sk-toggleable__label-arrow:before {\n",
       "  content: \"▾\";\n",
       "}\n",
       "\n",
       "/* Pipeline/ColumnTransformer-specific style */\n",
       "\n",
       "#sk-container-id-1 div.sk-label input.sk-toggleable__control:checked~label.sk-toggleable__label {\n",
       "  color: var(--sklearn-color-text);\n",
       "  background-color: var(--sklearn-color-unfitted-level-2);\n",
       "}\n",
       "\n",
       "#sk-container-id-1 div.sk-label.fitted input.sk-toggleable__control:checked~label.sk-toggleable__label {\n",
       "  background-color: var(--sklearn-color-fitted-level-2);\n",
       "}\n",
       "\n",
       "/* Estimator-specific style */\n",
       "\n",
       "/* Colorize estimator box */\n",
       "#sk-container-id-1 div.sk-estimator input.sk-toggleable__control:checked~label.sk-toggleable__label {\n",
       "  /* unfitted */\n",
       "  background-color: var(--sklearn-color-unfitted-level-2);\n",
       "}\n",
       "\n",
       "#sk-container-id-1 div.sk-estimator.fitted input.sk-toggleable__control:checked~label.sk-toggleable__label {\n",
       "  /* fitted */\n",
       "  background-color: var(--sklearn-color-fitted-level-2);\n",
       "}\n",
       "\n",
       "#sk-container-id-1 div.sk-label label.sk-toggleable__label,\n",
       "#sk-container-id-1 div.sk-label label {\n",
       "  /* The background is the default theme color */\n",
       "  color: var(--sklearn-color-text-on-default-background);\n",
       "}\n",
       "\n",
       "/* On hover, darken the color of the background */\n",
       "#sk-container-id-1 div.sk-label:hover label.sk-toggleable__label {\n",
       "  color: var(--sklearn-color-text);\n",
       "  background-color: var(--sklearn-color-unfitted-level-2);\n",
       "}\n",
       "\n",
       "/* Label box, darken color on hover, fitted */\n",
       "#sk-container-id-1 div.sk-label.fitted:hover label.sk-toggleable__label.fitted {\n",
       "  color: var(--sklearn-color-text);\n",
       "  background-color: var(--sklearn-color-fitted-level-2);\n",
       "}\n",
       "\n",
       "/* Estimator label */\n",
       "\n",
       "#sk-container-id-1 div.sk-label label {\n",
       "  font-family: monospace;\n",
       "  font-weight: bold;\n",
       "  display: inline-block;\n",
       "  line-height: 1.2em;\n",
       "}\n",
       "\n",
       "#sk-container-id-1 div.sk-label-container {\n",
       "  text-align: center;\n",
       "}\n",
       "\n",
       "/* Estimator-specific */\n",
       "#sk-container-id-1 div.sk-estimator {\n",
       "  font-family: monospace;\n",
       "  border: 1px dotted var(--sklearn-color-border-box);\n",
       "  border-radius: 0.25em;\n",
       "  box-sizing: border-box;\n",
       "  margin-bottom: 0.5em;\n",
       "  /* unfitted */\n",
       "  background-color: var(--sklearn-color-unfitted-level-0);\n",
       "}\n",
       "\n",
       "#sk-container-id-1 div.sk-estimator.fitted {\n",
       "  /* fitted */\n",
       "  background-color: var(--sklearn-color-fitted-level-0);\n",
       "}\n",
       "\n",
       "/* on hover */\n",
       "#sk-container-id-1 div.sk-estimator:hover {\n",
       "  /* unfitted */\n",
       "  background-color: var(--sklearn-color-unfitted-level-2);\n",
       "}\n",
       "\n",
       "#sk-container-id-1 div.sk-estimator.fitted:hover {\n",
       "  /* fitted */\n",
       "  background-color: var(--sklearn-color-fitted-level-2);\n",
       "}\n",
       "\n",
       "/* Specification for estimator info (e.g. \"i\" and \"?\") */\n",
       "\n",
       "/* Common style for \"i\" and \"?\" */\n",
       "\n",
       ".sk-estimator-doc-link,\n",
       "a:link.sk-estimator-doc-link,\n",
       "a:visited.sk-estimator-doc-link {\n",
       "  float: right;\n",
       "  font-size: smaller;\n",
       "  line-height: 1em;\n",
       "  font-family: monospace;\n",
       "  background-color: var(--sklearn-color-background);\n",
       "  border-radius: 1em;\n",
       "  height: 1em;\n",
       "  width: 1em;\n",
       "  text-decoration: none !important;\n",
       "  margin-left: 1ex;\n",
       "  /* unfitted */\n",
       "  border: var(--sklearn-color-unfitted-level-1) 1pt solid;\n",
       "  color: var(--sklearn-color-unfitted-level-1);\n",
       "}\n",
       "\n",
       ".sk-estimator-doc-link.fitted,\n",
       "a:link.sk-estimator-doc-link.fitted,\n",
       "a:visited.sk-estimator-doc-link.fitted {\n",
       "  /* fitted */\n",
       "  border: var(--sklearn-color-fitted-level-1) 1pt solid;\n",
       "  color: var(--sklearn-color-fitted-level-1);\n",
       "}\n",
       "\n",
       "/* On hover */\n",
       "div.sk-estimator:hover .sk-estimator-doc-link:hover,\n",
       ".sk-estimator-doc-link:hover,\n",
       "div.sk-label-container:hover .sk-estimator-doc-link:hover,\n",
       ".sk-estimator-doc-link:hover {\n",
       "  /* unfitted */\n",
       "  background-color: var(--sklearn-color-unfitted-level-3);\n",
       "  color: var(--sklearn-color-background);\n",
       "  text-decoration: none;\n",
       "}\n",
       "\n",
       "div.sk-estimator.fitted:hover .sk-estimator-doc-link.fitted:hover,\n",
       ".sk-estimator-doc-link.fitted:hover,\n",
       "div.sk-label-container:hover .sk-estimator-doc-link.fitted:hover,\n",
       ".sk-estimator-doc-link.fitted:hover {\n",
       "  /* fitted */\n",
       "  background-color: var(--sklearn-color-fitted-level-3);\n",
       "  color: var(--sklearn-color-background);\n",
       "  text-decoration: none;\n",
       "}\n",
       "\n",
       "/* Span, style for the box shown on hovering the info icon */\n",
       ".sk-estimator-doc-link span {\n",
       "  display: none;\n",
       "  z-index: 9999;\n",
       "  position: relative;\n",
       "  font-weight: normal;\n",
       "  right: .2ex;\n",
       "  padding: .5ex;\n",
       "  margin: .5ex;\n",
       "  width: min-content;\n",
       "  min-width: 20ex;\n",
       "  max-width: 50ex;\n",
       "  color: var(--sklearn-color-text);\n",
       "  box-shadow: 2pt 2pt 4pt #999;\n",
       "  /* unfitted */\n",
       "  background: var(--sklearn-color-unfitted-level-0);\n",
       "  border: .5pt solid var(--sklearn-color-unfitted-level-3);\n",
       "}\n",
       "\n",
       ".sk-estimator-doc-link.fitted span {\n",
       "  /* fitted */\n",
       "  background: var(--sklearn-color-fitted-level-0);\n",
       "  border: var(--sklearn-color-fitted-level-3);\n",
       "}\n",
       "\n",
       ".sk-estimator-doc-link:hover span {\n",
       "  display: block;\n",
       "}\n",
       "\n",
       "/* \"?\"-specific style due to the `<a>` HTML tag */\n",
       "\n",
       "#sk-container-id-1 a.estimator_doc_link {\n",
       "  float: right;\n",
       "  font-size: 1rem;\n",
       "  line-height: 1em;\n",
       "  font-family: monospace;\n",
       "  background-color: var(--sklearn-color-background);\n",
       "  border-radius: 1rem;\n",
       "  height: 1rem;\n",
       "  width: 1rem;\n",
       "  text-decoration: none;\n",
       "  /* unfitted */\n",
       "  color: var(--sklearn-color-unfitted-level-1);\n",
       "  border: var(--sklearn-color-unfitted-level-1) 1pt solid;\n",
       "}\n",
       "\n",
       "#sk-container-id-1 a.estimator_doc_link.fitted {\n",
       "  /* fitted */\n",
       "  border: var(--sklearn-color-fitted-level-1) 1pt solid;\n",
       "  color: var(--sklearn-color-fitted-level-1);\n",
       "}\n",
       "\n",
       "/* On hover */\n",
       "#sk-container-id-1 a.estimator_doc_link:hover {\n",
       "  /* unfitted */\n",
       "  background-color: var(--sklearn-color-unfitted-level-3);\n",
       "  color: var(--sklearn-color-background);\n",
       "  text-decoration: none;\n",
       "}\n",
       "\n",
       "#sk-container-id-1 a.estimator_doc_link.fitted:hover {\n",
       "  /* fitted */\n",
       "  background-color: var(--sklearn-color-fitted-level-3);\n",
       "}\n",
       "</style><div id=\"sk-container-id-1\" class=\"sk-top-container\"><div class=\"sk-text-repr-fallback\"><pre>KNeighborsClassifier()</pre><b>In a Jupyter environment, please rerun this cell to show the HTML representation or trust the notebook. <br />On GitHub, the HTML representation is unable to render, please try loading this page with nbviewer.org.</b></div><div class=\"sk-container\" hidden><div class=\"sk-item\"><div class=\"sk-estimator fitted sk-toggleable\"><input class=\"sk-toggleable__control sk-hidden--visually\" id=\"sk-estimator-id-1\" type=\"checkbox\" checked><label for=\"sk-estimator-id-1\" class=\"sk-toggleable__label fitted sk-toggleable__label-arrow fitted\">&nbsp;&nbsp;KNeighborsClassifier<a class=\"sk-estimator-doc-link fitted\" rel=\"noreferrer\" target=\"_blank\" href=\"https://scikit-learn.org/1.4/modules/generated/sklearn.neighbors.KNeighborsClassifier.html\">?<span>Documentation for KNeighborsClassifier</span></a><span class=\"sk-estimator-doc-link fitted\">i<span>Fitted</span></span></label><div class=\"sk-toggleable__content fitted\"><pre>KNeighborsClassifier()</pre></div> </div></div></div></div>"
      ],
      "text/plain": [
       "KNeighborsClassifier()"
      ]
     },
     "execution_count": 59,
     "metadata": {},
     "output_type": "execute_result"
    }
   ],
   "source": [
    "knn.fit(X_train, y_train)"
   ]
  },
  {
   "cell_type": "code",
   "execution_count": 60,
   "id": "128e1222-9d61-40b6-b1a1-f9e64dd05582",
   "metadata": {},
   "outputs": [],
   "source": [
    "#knn.score(X_test, y_test)"
   ]
  },
  {
   "cell_type": "code",
   "execution_count": 61,
   "id": "46d7a6b0-b1f8-40a0-a88d-63a7a43b6bca",
   "metadata": {},
   "outputs": [],
   "source": [
    "#fruit_prediction = knn.predict([[20, 4.3, 5.5]])\n",
    "#look_up_fruit_name[fruit_prediction[0]]"
   ]
  },
  {
   "cell_type": "code",
   "execution_count": 62,
   "id": "9b05d1dd-c78f-457b-a159-94320c213b76",
   "metadata": {},
   "outputs": [
    {
     "name": "stdout",
     "output_type": "stream",
     "text": [
      "Accuracy on training set: 0.986\n",
      "Accuracy on test set: 0.958\n"
     ]
    }
   ],
   "source": [
    "from sklearn.tree import DecisionTreeClassifier\n",
    "\n",
    "tree = DecisionTreeClassifier(random_state=0)\n",
    "tree.fit(X_train, y_train)\n",
    "y_pred_tree = tr\n",
    "print(\"Accuracy on training set: {:.3f}\".format(tree.score(X_train, y_train)))\n",
    "print(\"Accuracy on test set: {:.3f}\".format(tree.score(X_test, y_test)))"
   ]
  },
  {
   "cell_type": "code",
   "execution_count": 63,
   "id": "c2e51bed-b7eb-4a81-b1d7-ec3d2a2722bb",
   "metadata": {},
   "outputs": [
    {
     "name": "stdout",
     "output_type": "stream",
     "text": [
      "Enter the URL https://www.icai.org/\n"
     ]
    },
    {
     "name": "stdout",
     "output_type": "stream",
     "text": [
      "DEFACEMENT\n"
     ]
    }
   ],
   "source": [
    "def get_prediction_from_url(test_url):\n",
    "    features_test = main(test_url)\n",
    "    # Due to updates tohttps://www.google.com scikit-learn, we now need a 2D array as a parameter to the predict function.\n",
    "    features_test = np.array(features_test).reshape((1, -1))\n",
    "    pred = tree.predict(features_test)\n",
    "    if int(pred[0]) == 0:\n",
    "        res=\"MALWARE\"\n",
    "        return res\n",
    "    elif int(pred[0]) == 1.0:\n",
    "        res=\"DEFACEMENT\"\n",
    "        return res\n",
    "    elif int(pred[0]) == 2.0:\n",
    "        res=\"PHISHING\"\n",
    "        return res\n",
    "    elif int(pred[0]) == 3.0:\n",
    "        res=\"SAFE\"\n",
    "        return res\n",
    "url = input(\"Enter the URL\")\n",
    "print(get_prediction_from_url(url))"
   ]
  },
  {
   "cell_type": "code",
   "execution_count": 72,
   "id": "c0388bc4-7b79-4aa7-b575-d682e37ec023",
   "metadata": {},
   "outputs": [
    {
     "name": "stdout",
     "output_type": "stream",
     "text": [
      "              precision    recall  f1-score   support\n",
      "\n",
      "      benign       0.91      0.96      0.93    171753\n",
      "  defacement       0.89      0.68      0.77     38253\n",
      "    phishing       0.47      0.74      0.57     12919\n",
      "     malware       0.73      0.58      0.65     37553\n",
      "\n",
      "    accuracy                           0.85    260478\n",
      "   macro avg       0.75      0.74      0.73    260478\n",
      "weighted avg       0.86      0.85      0.85    260478\n",
      "\n",
      "Accuracy on training set: 0.852\n",
      "Accuracy on test set: 0.853\n"
     ]
    }
   ],
   "source": [
    "tree1 = DecisionTreeClassifier(max_depth=3, random_state=0)\n",
    "tree1.fit(X_train, y_train)\n",
    "y_pred_rf = tree1.predict(X_test)\n",
    "print(classification_report(y_test, y_pred_rf, target_names=['benign', 'defacement','phishing','malware']))\n",
    "print(\"Accuracy on training set: {:.3f}\".format(tree1.score(X_train, y_train)))\n",
    "print(\"Accuracy on test set: {:.3f}\".format(tree1.score(X_test, y_test)))"
   ]
  },
  {
   "cell_type": "code",
   "execution_count": 65,
   "id": "07ca4bec-12fb-4b39-a231-01e827011d77",
   "metadata": {},
   "outputs": [
    {
     "name": "stdout",
     "output_type": "stream",
     "text": [
      "Enter the URL https://www.icai.org/\n"
     ]
    },
    {
     "name": "stdout",
     "output_type": "stream",
     "text": [
      "DEFACEMENT\n"
     ]
    }
   ],
   "source": [
    "def get_prediction_from_url(test_url):\n",
    "    features_test = main(test_url)\n",
    "    # Due to updates tohttps://www.google.com scikit-learn, we now need a 2D array as a parameter to the predict function.\n",
    "    features_test = np.array(features_test).reshape((1, -1))\n",
    "    pred = tree1.predict(features_test)\n",
    "    if int(pred[0]) == 0:\n",
    "        res=\"MALWARE\"\n",
    "        return res\n",
    "    elif int(pred[0]) == 1.0:\n",
    "        res=\"DEFACEMENT\"\n",
    "        return res\n",
    "    elif int(pred[0]) == 2.0:\n",
    "        res=\"PHISHING\"\n",
    "        return res\n",
    "    elif int(pred[0]) == 3.0:\n",
    "        res=\"SAFE\"\n",
    "        return res\n",
    "url = input(\"Enter the URL\")\n",
    "print(get_prediction_from_url(url))"
   ]
  },
  {
   "cell_type": "code",
   "execution_count": 66,
   "id": "b12240f1-8494-4a97-a37c-36ca465b8b96",
   "metadata": {},
   "outputs": [
    {
     "name": "stdout",
     "output_type": "stream",
     "text": [
      "Feature importances:\n",
      "[5.86630105e-05 1.63996515e-03 1.44132316e-02 1.63472675e-01\n",
      " 4.15183144e-04 1.37013359e-01 2.79615029e-04 3.07082239e-03\n",
      " 1.78502191e-02 1.79771812e-03 8.47367159e-03 3.32105691e-03\n",
      " 1.86385694e-02 8.02293148e-03 1.11070110e-01 3.49007334e-01\n",
      " 1.29147519e-02 6.20119873e-02 2.88502431e-02 2.45280800e-04\n",
      " 3.82069034e-04 3.32479588e-02 8.16248422e-03 4.62513721e-03\n",
      " 1.10149624e-02]\n"
     ]
    }
   ],
   "source": [
    "print(\"Feature importances:\\n{}\".format(tree.feature_importances_))\n"
   ]
  },
  {
   "cell_type": "code",
   "execution_count": 67,
   "id": "ff6e4670-8598-4526-9a4b-5897c571f568",
   "metadata": {},
   "outputs": [
    {
     "name": "stdout",
     "output_type": "stream",
     "text": [
      "Accuracy on training set: 0.986\n",
      "Accuracy on test set: 0.966\n"
     ]
    }
   ],
   "source": [
    "from sklearn.ensemble import RandomForestClassifier\n",
    "\n",
    "rf = RandomForestClassifier(n_estimators=100, random_state=0)\n",
    "rf.fit(X_train, y_train)\n",
    "print(\"Accuracy on training set: {:.3f}\".format(rf.score(X_train, y_train)))\n",
    "print(\"Accuracy on test set: {:.3f}\".format(rf.score(X_test, y_test)))"
   ]
  },
  {
   "cell_type": "code",
   "execution_count": 68,
   "id": "78d2484d-8474-4c1a-80cc-1f931f68f3d7",
   "metadata": {},
   "outputs": [
    {
     "name": "stdout",
     "output_type": "stream",
     "text": [
      "Enter the URL https://www.icai.org/\n"
     ]
    },
    {
     "name": "stdout",
     "output_type": "stream",
     "text": [
      "SAFE\n"
     ]
    }
   ],
   "source": [
    "def get_prediction_from_url(test_url):\n",
    "    features_test = main(test_url)\n",
    "    # Due to updates tohttps://www.google.com scikit-learn, we now need a 2D array as a parameter to the predict function.\n",
    "    features_test = np.array(features_test).reshape((1, -1))\n",
    "    pred = rf.predict(features_test)\n",
    "    if int(pred[0]) == 0:\n",
    "        res=\"MALWARE\"\n",
    "        return res\n",
    "    elif int(pred[0]) == 1.0:\n",
    "        res=\"DEFACEMENT\"\n",
    "        return res\n",
    "    elif int(pred[0]) == 2.0:\n",
    "        res=\"PHISHING\"\n",
    "        return res\n",
    "    elif int(pred[0]) == 3.0:\n",
    "        res=\"SAFE\"\n",
    "        return res\n",
    "url = input(\"Enter the URL\")\n",
    "print(get_prediction_from_url(url))"
   ]
  },
  {
   "cell_type": "code",
   "execution_count": 69,
   "id": "15aa7dc0-ed6f-4fcf-b4d3-8d150f60b0f8",
   "metadata": {},
   "outputs": [
    {
     "name": "stdout",
     "output_type": "stream",
     "text": [
      "Accuracy on training set: 0.920\n",
      "Accuracy on test set: 0.921\n"
     ]
    }
   ],
   "source": [
    "rf1 = RandomForestClassifier(max_depth=6, n_estimators=100, random_state=0)\n",
    "rf1.fit(X_train, y_train)\n",
    "print(\"Accuracy on training set: {:.3f}\".format(rf1.score(X_train, y_train)))\n",
    "print(\"Accuracy on test set: {:.3f}\".format(rf1.score(X_test, y_test)))"
   ]
  },
  {
   "cell_type": "code",
   "execution_count": 70,
   "id": "12421ad3-877a-4711-8726-d9295e2d8197",
   "metadata": {},
   "outputs": [
    {
     "name": "stdout",
     "output_type": "stream",
     "text": [
      "Enter the URL https://www.icai.org/\n"
     ]
    },
    {
     "name": "stdout",
     "output_type": "stream",
     "text": [
      "DEFACEMENT\n"
     ]
    }
   ],
   "source": [
    "def get_prediction_from_url(test_url):\n",
    "    features_test = main(test_url)\n",
    "    # Due to updates tohttps://www.google.com scikit-learn, we now need a 2D array as a parameter to the predict function.\n",
    "    features_test = np.array(features_test).reshape((1, -1))\n",
    "    pred = rf1.predict(features_test)\n",
    "    if int(pred[0]) == 0:\n",
    "        res=\"MALWARE\"\n",
    "        return res\n",
    "    elif int(pred[0]) == 1.0:\n",
    "        res=\"DEFACEMENT\"\n",
    "        return res\n",
    "    elif int(pred[0]) == 2.0:\n",
    "        res=\"PHISHING\"\n",
    "        return res\n",
    "    elif int(pred[0]) == 3.0:\n",
    "        res=\"SAFE\"\n",
    "        return res\n",
    "url = input(\"Enter the URL\")\n",
    "print(get_prediction_from_url(url))"
   ]
  },
  {
   "cell_type": "code",
   "execution_count": 71,
   "id": "13827dba-5fe2-42df-b86d-96179b033a60",
   "metadata": {},
   "outputs": [
    {
     "name": "stdout",
     "output_type": "stream",
     "text": [
      "Feature importances:\n",
      "[6.32765565e-03 1.46569522e-01 3.02257885e-02 1.40632542e-01\n",
      " 1.25627655e-04 1.18291974e-01 1.06068997e-04 2.51824610e-04\n",
      " 1.30432155e-02 6.83263488e-02 5.79656245e-03 6.96060317e-03\n",
      " 1.75589956e-02 2.68646068e-02 4.88008203e-02 1.79349148e-01\n",
      " 7.65126659e-03 3.78432419e-02 7.13625492e-02 3.18137023e-05\n",
      " 6.75760998e-05 2.21955568e-02 8.41005965e-03 1.20264802e-03\n",
      " 4.20039836e-02]\n"
     ]
    }
   ],
   "source": [
    "print(\"Feature importances:\\n{}\".format(rf1.feature_importances_))"
   ]
  },
  {
   "cell_type": "code",
   "execution_count": null,
   "id": "ceead703-934c-460d-8507-d9522f01346a",
   "metadata": {},
   "outputs": [],
   "source": []
  }
 ],
 "metadata": {
  "kernelspec": {
   "display_name": "Python 3 (ipykernel)",
   "language": "python",
   "name": "python3"
  },
  "language_info": {
   "codemirror_mode": {
    "name": "ipython",
    "version": 3
   },
   "file_extension": ".py",
   "mimetype": "text/x-python",
   "name": "python",
   "nbconvert_exporter": "python",
   "pygments_lexer": "ipython3",
   "version": "3.12.0"
  }
 },
 "nbformat": 4,
 "nbformat_minor": 5
}
